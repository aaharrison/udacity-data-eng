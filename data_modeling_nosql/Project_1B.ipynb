{
 "cells": [
  {
   "cell_type": "markdown",
   "metadata": {},
   "source": [
    "# Part I. ETL Pipeline for Pre-Processing the Files"
   ]
  },
  {
   "cell_type": "markdown",
   "metadata": {},
   "source": [
    "#### Import Python packages "
   ]
  },
  {
   "cell_type": "code",
   "execution_count": 3,
   "metadata": {},
   "outputs": [],
   "source": [
    "# Import Python packages \n",
    "import pandas as pd\n",
    "import cassandra\n",
    "import re\n",
    "import os\n",
    "import glob\n",
    "import numpy as np\n",
    "import json\n",
    "import csv"
   ]
  },
  {
   "cell_type": "markdown",
   "metadata": {},
   "source": [
    "#### Creating list of filepaths to process original event csv data files"
   ]
  },
  {
   "cell_type": "code",
   "execution_count": 5,
   "metadata": {},
   "outputs": [
    {
     "name": "stdout",
     "output_type": "stream",
     "text": [
      "/Users/adeniyiharrison/Documents/github/udacity-data-eng/data_modeling_nosql\n",
      "['/Users/adeniyiharrison/Documents/github/udacity-data-eng/data_modeling_nosql/event_data/2018-11-15-events.csv', '/Users/adeniyiharrison/Documents/github/udacity-data-eng/data_modeling_nosql/event_data/2018-11-22-events.csv', '/Users/adeniyiharrison/Documents/github/udacity-data-eng/data_modeling_nosql/event_data/2018-11-09-events.csv', '/Users/adeniyiharrison/Documents/github/udacity-data-eng/data_modeling_nosql/event_data/2018-11-18-events.csv', '/Users/adeniyiharrison/Documents/github/udacity-data-eng/data_modeling_nosql/event_data/2018-11-04-events.csv', '/Users/adeniyiharrison/Documents/github/udacity-data-eng/data_modeling_nosql/event_data/2018-11-01-events.csv', '/Users/adeniyiharrison/Documents/github/udacity-data-eng/data_modeling_nosql/event_data/2018-11-27-events.csv', '/Users/adeniyiharrison/Documents/github/udacity-data-eng/data_modeling_nosql/event_data/2018-11-10-events.csv', '/Users/adeniyiharrison/Documents/github/udacity-data-eng/data_modeling_nosql/event_data/2018-11-20-events.csv', '/Users/adeniyiharrison/Documents/github/udacity-data-eng/data_modeling_nosql/event_data/2018-11-17-events.csv', '/Users/adeniyiharrison/Documents/github/udacity-data-eng/data_modeling_nosql/event_data/2018-11-06-events.csv', '/Users/adeniyiharrison/Documents/github/udacity-data-eng/data_modeling_nosql/event_data/2018-11-03-events.csv', '/Users/adeniyiharrison/Documents/github/udacity-data-eng/data_modeling_nosql/event_data/2018-11-28-events.csv', '/Users/adeniyiharrison/Documents/github/udacity-data-eng/data_modeling_nosql/event_data/2018-11-12-events.csv', '/Users/adeniyiharrison/Documents/github/udacity-data-eng/data_modeling_nosql/event_data/2018-11-25-events.csv', '/Users/adeniyiharrison/Documents/github/udacity-data-eng/data_modeling_nosql/event_data/2018-11-26-events.csv', '/Users/adeniyiharrison/Documents/github/udacity-data-eng/data_modeling_nosql/event_data/2018-11-11-events.csv', '/Users/adeniyiharrison/Documents/github/udacity-data-eng/data_modeling_nosql/event_data/2018-11-14-events.csv', '/Users/adeniyiharrison/Documents/github/udacity-data-eng/data_modeling_nosql/event_data/2018-11-23-events.csv', '/Users/adeniyiharrison/Documents/github/udacity-data-eng/data_modeling_nosql/event_data/2018-11-08-events.csv', '/Users/adeniyiharrison/Documents/github/udacity-data-eng/data_modeling_nosql/event_data/2018-11-19-events.csv', '/Users/adeniyiharrison/Documents/github/udacity-data-eng/data_modeling_nosql/event_data/2018-11-05-events.csv', '/Users/adeniyiharrison/Documents/github/udacity-data-eng/data_modeling_nosql/event_data/2018-11-02-events.csv', '/Users/adeniyiharrison/Documents/github/udacity-data-eng/data_modeling_nosql/event_data/2018-11-29-events.csv', '/Users/adeniyiharrison/Documents/github/udacity-data-eng/data_modeling_nosql/event_data/2018-11-13-events.csv', '/Users/adeniyiharrison/Documents/github/udacity-data-eng/data_modeling_nosql/event_data/2018-11-24-events.csv', '/Users/adeniyiharrison/Documents/github/udacity-data-eng/data_modeling_nosql/event_data/2018-11-21-events.csv', '/Users/adeniyiharrison/Documents/github/udacity-data-eng/data_modeling_nosql/event_data/2018-11-16-events.csv', '/Users/adeniyiharrison/Documents/github/udacity-data-eng/data_modeling_nosql/event_data/2018-11-07-events.csv', '/Users/adeniyiharrison/Documents/github/udacity-data-eng/data_modeling_nosql/event_data/2018-11-30-events.csv']\n"
     ]
    }
   ],
   "source": [
    "print(os.getcwd())\n",
    "\n",
    "filepath = os.getcwd() + '/event_data'\n",
    "\n",
    "for root, dirs, files in os.walk(filepath):\n",
    "    \n",
    "    file_path_list = glob.glob(os.path.join(root,'*'))\n",
    "    print(file_path_list)"
   ]
  },
  {
   "cell_type": "markdown",
   "metadata": {},
   "source": [
    "#### Processing the files to create the data file csv that will be used for Apache Casssandra tables"
   ]
  },
  {
   "cell_type": "code",
   "execution_count": 14,
   "metadata": {},
   "outputs": [
    {
     "name": "stdout",
     "output_type": "stream",
     "text": [
      "8056\n"
     ]
    }
   ],
   "source": [
    "full_data_rows_list = [] \n",
    "    \n",
    "for f in file_path_list:\n",
    "\n",
    "    with open(f, 'r', encoding = 'utf8', newline='') as csvfile: \n",
    "        # creating a csv reader object \n",
    "        csvreader = csv.reader(csvfile) \n",
    "        next(csvreader)\n",
    "        \n",
    "        for line in csvreader:\n",
    "            #print(line)\n",
    "            full_data_rows_list.append(line) \n",
    "            \n",
    "print(len(full_data_rows_list))\n",
    "#print(full_data_rows_list)\n",
    "\n",
    "csv.register_dialect('myDialect', quoting=csv.QUOTE_ALL, skipinitialspace=True)\n",
    "\n",
    "with open('event_datafile_new.csv', 'w', encoding = 'utf8', newline='') as f:\n",
    "    writer = csv.writer(f, dialect='myDialect')\n",
    "    writer.writerow(['artist','firstName','gender','itemInSession','lastName','length',\\\n",
    "                'level','location','sessionId','song','userId'])\n",
    "    for row in full_data_rows_list:\n",
    "        if (row[0] == ''):\n",
    "            continue\n",
    "        writer.writerow((row[0], row[2], row[3], row[4], row[5], row[6], row[7], row[8], row[12], row[13], row[16]))\n"
   ]
  },
  {
   "cell_type": "code",
   "execution_count": 7,
   "metadata": {},
   "outputs": [
    {
     "name": "stdout",
     "output_type": "stream",
     "text": [
      "6821\n"
     ]
    }
   ],
   "source": [
    "with open('event_datafile_new.csv', 'r', encoding = 'utf8') as f:\n",
    "    print(sum(1 for line in f))"
   ]
  },
  {
   "cell_type": "markdown",
   "metadata": {},
   "source": [
    "# Part II. Complete the Apache Cassandra coding portion of your project. \n",
    "\n",
    "## Now you are ready to work with the CSV file titled <font color=red>event_datafile_new.csv</font>, located within the Workspace directory.  The event_datafile_new.csv contains the following columns: \n",
    "- artist \n",
    "- firstName of user\n",
    "- gender of user\n",
    "- item number in session\n",
    "- last name of user\n",
    "- length of the song\n",
    "- level (paid or free song)\n",
    "- location of the user\n",
    "- sessionId\n",
    "- song title\n",
    "- userId\n",
    "\n",
    "The image below is a screenshot of what the denormalized data should appear like in the <font color=red>**event_datafile_new.csv**</font> after the code above is run:<br>\n",
    "\n",
    "<img src=\"images/image_event_datafile_new.jpg\">"
   ]
  },
  {
   "cell_type": "markdown",
   "metadata": {},
   "source": [
    "#### Creating a Cluster"
   ]
  },
  {
   "cell_type": "code",
   "execution_count": 13,
   "metadata": {},
   "outputs": [],
   "source": [
    "from cassandra.cluster import Cluster\n",
    "cluster = Cluster()\n",
    "\n",
    "session = cluster.connect()"
   ]
  },
  {
   "cell_type": "markdown",
   "metadata": {},
   "source": [
    "#### Create Keyspace"
   ]
  },
  {
   "cell_type": "code",
   "execution_count": 5,
   "metadata": {},
   "outputs": [
    {
     "data": {
      "text/plain": [
       "<cassandra.cluster.ResultSet at 0x7f326c57b390>"
      ]
     },
     "execution_count": 5,
     "metadata": {},
     "output_type": "execute_result"
    }
   ],
   "source": [
    "session.execute(\n",
    "    \"\"\"\n",
    "        CREATE KEYSPACE IF NOT EXISTS udacity\n",
    "        WITH REPLICATION = {\n",
    "            'class': 'SimpleStrategy',\n",
    "            'replication_factor': 1\n",
    "        }\n",
    "    \"\"\"\n",
    ")"
   ]
  },
  {
   "cell_type": "markdown",
   "metadata": {},
   "source": [
    "#### Set Keyspace"
   ]
  },
  {
   "cell_type": "code",
   "execution_count": 7,
   "metadata": {},
   "outputs": [],
   "source": [
    "session = cluster.connect(\"udacity\")"
   ]
  },
  {
   "cell_type": "markdown",
   "metadata": {},
   "source": [
    "### 1. Return the artist, song title and song's length in the music app history that was heard during  sessionId = 338, and itemInSession  = 4"
   ]
  },
  {
   "cell_type": "code",
   "execution_count": 18,
   "metadata": {},
   "outputs": [],
   "source": [
    "answer1 = \"\"\"\n",
    "    SELECT\n",
    "        artist_name,\n",
    "        song_title,\n",
    "        song_length\n",
    "    FROM song_length\n",
    "    WHERE session_id = 338\n",
    "        AND item_in_session = 4\n",
    "    \"\"\"\n",
    "\n",
    "create1 = \"\"\"\n",
    "    CREATE TABLE IF NOT EXISTS song_length (\n",
    "        session_id int,\n",
    "        item_in_session int,\n",
    "        artist_name text,\n",
    "        song_title text,\n",
    "        song_length float,\n",
    "        PRIMARY KEY(session_id, item_in_session)\n",
    "    )\n",
    "    \"\"\"\n",
    "\n",
    "insert1 = \"\"\"\n",
    "    INSERT INTO song_length (\n",
    "        session_id,\n",
    "        item_in_session,\n",
    "        artist_name,\n",
    "        song_title,\n",
    "        song_length\n",
    "        )\n",
    "    VALUES (\n",
    "        %s, %s, %s, %s, %s\n",
    "    )\n",
    "    \"\"\"\n",
    "\n",
    "session.execute(create1)\n",
    "\n",
    "file = 'event_datafile_new.csv'\n",
    "\n",
    "with open(file, encoding = 'utf8') as f:\n",
    "    csvreader = csv.reader(f)\n",
    "    next(csvreader)\n",
    "    for line in csvreader:\n",
    "        session.execute(\n",
    "            insert1, \n",
    "            (\n",
    "                int(line[8]),\n",
    "                int(line[3]),\n",
    "                line[0],\n",
    "                line[9],\n",
    "                line[5]\n",
    "            )\n",
    "        )                 "
   ]
  },
  {
   "cell_type": "code",
   "execution_count": 19,
   "metadata": {
    "scrolled": true
   },
   "outputs": [
    {
     "name": "stdout",
     "output_type": "stream",
     "text": [
      "Row(artist_name='Faithless', song_title='Music Matters (Mark Knight Dub)', song_length='495.3073')\n"
     ]
    }
   ],
   "source": [
    "rows = session.execute(answer1)\n",
    "\n",
    "for x in rows:\n",
    "    print(x)"
   ]
  },
  {
   "cell_type": "markdown",
   "metadata": {},
   "source": [
    "### 2.Return only the following: name of artist, song (sorted by itemInSession) and user (first and last name) for userid = 10, sessionid = 182"
   ]
  },
  {
   "cell_type": "code",
   "execution_count": 11,
   "metadata": {},
   "outputs": [],
   "source": [
    "answer2 = \"\"\"\n",
    "    SELECT\n",
    "        artist_name,\n",
    "        song_title,\n",
    "        first_name,\n",
    "        last_name\n",
    "    FROM songs_in_session\n",
    "    WHERE user_id = 10\n",
    "        AND session_id = 182\n",
    "    \"\"\"\n",
    "\n",
    "create2 = \"\"\"\n",
    "    CREATE TABLE IF NOT EXISTS songs_in_session (\n",
    "        user_id int,\n",
    "        session_id int,\n",
    "        first_name text,\n",
    "        last_name text,\n",
    "        item_in_session int,\n",
    "        artist_name text,\n",
    "        song_title text,\n",
    "        PRIMARY KEY((user_id, session_id), item_in_session)\n",
    "    )\n",
    "    \"\"\"\n",
    "\n",
    "insert2 = \"\"\"\n",
    "    INSERT INTO songs_in_session (\n",
    "        user_id,\n",
    "        session_id,\n",
    "        first_name,\n",
    "        last_name,\n",
    "        item_in_session,\n",
    "        artist_name,\n",
    "        song_title\n",
    "        )\n",
    "    VALUES (\n",
    "        %s, %s, %s, %s, %s, %s, %s\n",
    "    )\n",
    "    \"\"\"\n",
    "\n",
    "session.execute(create2)\n",
    "\n",
    "file = 'event_datafile_new.csv'\n",
    "\n",
    "with open(file, encoding = 'utf8') as f:\n",
    "    csvreader = csv.reader(f)\n",
    "    next(csvreader)\n",
    "    for line in csvreader:\n",
    "        session.execute(\n",
    "            insert2, (\n",
    "                int(line[10]),\n",
    "                int(line[8]),\n",
    "                line[1],\n",
    "                line[4],\n",
    "                int(line[3]),\n",
    "                line[0],\n",
    "                line[9]\n",
    "            )\n",
    "        )         "
   ]
  },
  {
   "cell_type": "code",
   "execution_count": 32,
   "metadata": {},
   "outputs": [
    {
     "name": "stdout",
     "output_type": "stream",
     "text": [
      "Row(artist_name='Down To The Bone', song_title=\"Keep On Keepin' On\", first_name='Sylvie', last_name='Cruz')\n",
      "Row(artist_name='Three Drives', song_title='Greece 2000', first_name='Sylvie', last_name='Cruz')\n",
      "Row(artist_name='Sebastien Tellier', song_title='Kilometer', first_name='Sylvie', last_name='Cruz')\n",
      "Row(artist_name='Lonnie Gordon', song_title='Catch You Baby (Steve Pitron & Max Sanna Radio Edit)', first_name='Sylvie', last_name='Cruz')\n"
     ]
    }
   ],
   "source": [
    "rows = session.execute(answer2)\n",
    "\n",
    "for x in rows:\n",
    "    print(x)"
   ]
  },
  {
   "cell_type": "markdown",
   "metadata": {},
   "source": [
    "### 3. Return every user name (first and last) in my music app history who listened to the song 'All Hands Against His Own'"
   ]
  },
  {
   "cell_type": "code",
   "execution_count": 12,
   "metadata": {},
   "outputs": [],
   "source": [
    "\n",
    "answer3 = \"\"\"\n",
    "    SELECT\n",
    "        last_name,\n",
    "        first_name\n",
    "    FROM who_listened\n",
    "    WHERE song_name = 'All Hands Against His Own'\n",
    "    \"\"\"\n",
    "\n",
    "create3 = \"\"\"\n",
    "    CREATE TABLE IF NOT EXISTS who_listened (\n",
    "        user_id int,\n",
    "        session_id int,\n",
    "        itemInSession int,\n",
    "        song_name text,\n",
    "        last_name text,\n",
    "        first_name text,\n",
    "        PRIMARY KEY(song_name, user_id, session_id, itemInSession)\n",
    "    )\n",
    "    \"\"\"\n",
    "\n",
    "insert3 = \"\"\"\n",
    "    INSERT INTO who_listened (\n",
    "        user_id,\n",
    "        session_id,\n",
    "        itemInSession,\n",
    "        song_name,\n",
    "        last_name,\n",
    "        first_name,\n",
    "        )\n",
    "    VALUES (\n",
    "        %s, %s, %s, %s, %s, %s\n",
    "    )\n",
    "    \"\"\"\n",
    "\n",
    "session.execute(create3)\n",
    "\n",
    "file = 'event_datafile_new.csv'\n",
    "\n",
    "with open(file, encoding = 'utf8') as f:\n",
    "    csvreader = csv.reader(f)\n",
    "    next(csvreader)\n",
    "    for line in csvreader:\n",
    "        session.execute(\n",
    "            insert3, (\n",
    "                int(line[10]),\n",
    "                int(line[8]),\n",
    "                int(line[3]),\n",
    "                line[9],\n",
    "                line[4],\n",
    "                line[1]\n",
    "            )\n",
    "        )         \n",
    "                    "
   ]
  },
  {
   "cell_type": "code",
   "execution_count": 36,
   "metadata": {},
   "outputs": [
    {
     "name": "stdout",
     "output_type": "stream",
     "text": [
      "Row(last_name='Johnson', first_name='Sara')\n",
      "Row(last_name='Levine', first_name='Tegan')\n",
      "Row(last_name='Lynch', first_name='Jacqueline')\n"
     ]
    }
   ],
   "source": [
    "rows = session.execute(answer3)\n",
    "for x in rows:\n",
    "    print(x)"
   ]
  },
  {
   "cell_type": "code",
   "execution_count": 37,
   "metadata": {},
   "outputs": [],
   "source": [
    "drop_query = \"\"\"\n",
    "    DROP TABLE IF EXISTS {table_name}\n",
    "    \"\"\"\n",
    "\n",
    "for x in [\"who_listened\", \"songs_in_session\", \"song_length\"]:\n",
    "    session.execute(\n",
    "        drop_query.format(table_name=x)\n",
    "        )"
   ]
  },
  {
   "cell_type": "code",
   "execution_count": 38,
   "metadata": {},
   "outputs": [],
   "source": [
    "session.shutdown()\n",
    "cluster.shutdown()"
   ]
  }
 ],
 "metadata": {
  "kernelspec": {
   "display_name": "Python 3",
   "language": "python",
   "name": "python3"
  },
  "language_info": {
   "codemirror_mode": {
    "name": "ipython",
    "version": 3
   },
   "file_extension": ".py",
   "mimetype": "text/x-python",
   "name": "python",
   "nbconvert_exporter": "python",
   "pygments_lexer": "ipython3",
   "version": "3.7.3"
  }
 },
 "nbformat": 4,
 "nbformat_minor": 4
}
